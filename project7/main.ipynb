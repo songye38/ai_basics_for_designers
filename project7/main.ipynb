{
 "cells": [
  {
   "cell_type": "code",
   "execution_count": 1,
   "metadata": {},
   "outputs": [
    {
     "name": "stderr",
     "output_type": "stream",
     "text": [
      "2023-10-20 16:06:59.643168: I tensorflow/core/platform/cpu_feature_guard.cc:193] This TensorFlow binary is optimized with oneAPI Deep Neural Network Library (oneDNN) to use the following CPU instructions in performance-critical operations:  AVX2 FMA\n",
      "To enable them in other operations, rebuild TensorFlow with the appropriate compiler flags.\n",
      "/Users/songye/opt/anaconda3/envs/aiffel/lib/python3.7/site-packages/requests/__init__.py:91: RequestsDependencyWarning: urllib3 (1.26.11) or chardet (3.0.4) doesn't match a supported version!\n",
      "  RequestsDependencyWarning)\n"
     ]
    }
   ],
   "source": [
    "from tensorflow import keras\n",
    "import data_reader"
   ]
  },
  {
   "cell_type": "code",
   "execution_count": 2,
   "metadata": {},
   "outputs": [
    {
     "name": "stdout",
     "output_type": "stream",
     "text": [
      "Reading Data...\n",
      "Opening horse/\n",
      "Opening human/\n",
      "\n",
      "\n",
      "Data Read Done!\n",
      "Training X Size : (822, 150, 150, 3)\n",
      "Training Y Size : (822,)\n",
      "Test X Size : (205, 150, 150, 3)\n",
      "Test Y Size : (205,)\n",
      "\n",
      "\n"
     ]
    }
   ],
   "source": [
    "EPOCHS = 30  # 예제 기본값은 30입니다.\n",
    "dr = data_reader.DataReader()"
   ]
  },
  {
   "cell_type": "code",
   "execution_count": 3,
   "metadata": {},
   "outputs": [
    {
     "name": "stderr",
     "output_type": "stream",
     "text": [
      "2023-10-20 16:07:09.663425: I tensorflow/core/platform/cpu_feature_guard.cc:193] This TensorFlow binary is optimized with oneAPI Deep Neural Network Library (oneDNN) to use the following CPU instructions in performance-critical operations:  AVX2 FMA\n",
      "To enable them in other operations, rebuild TensorFlow with the appropriate compiler flags.\n"
     ]
    }
   ],
   "source": [
    "model = keras.Sequential([\n",
    "    keras.layers.Conv2D(16, (3, 3), activation=\"relu\"),\n",
    "    keras.layers.MaxPooling2D((2, 2)),\n",
    "    keras.layers.Conv2D(32, (3, 3), activation='relu'),\n",
    "    keras.layers.MaxPooling2D((2, 2)),\n",
    "    keras.layers.Conv2D(64, (3, 3), activation='relu'),\n",
    "    keras.layers.MaxPooling2D((2, 2)),\n",
    "    keras.layers.Conv2D(64, (3, 3), activation='relu'),\n",
    "    keras.layers.MaxPooling2D((2, 2)),\n",
    "    keras.layers.Conv2D(64, (3, 3), activation='relu'),\n",
    "    keras.layers.MaxPooling2D((2, 2)),\n",
    "    keras.layers.Flatten(),\n",
    "    keras.layers.Dense(128, activation='relu'),\n",
    "    keras.layers.Dense(1)\n",
    "])\n"
   ]
  },
  {
   "cell_type": "code",
   "execution_count": 4,
   "metadata": {},
   "outputs": [],
   "source": [
    "model.compile(optimizer='adam', metrics=['accuracy'],\n",
    "              loss='binary_crossentropy')"
   ]
  },
  {
   "cell_type": "code",
   "execution_count": 5,
   "metadata": {},
   "outputs": [
    {
     "name": "stdout",
     "output_type": "stream",
     "text": [
      "Epoch 1/30\n",
      "WARNING:tensorflow:AutoGraph could not transform <function Model.make_train_function.<locals>.train_function at 0x7fe2e21c2c20> and will run it as-is.\n",
      "Please report this to the TensorFlow team. When filing the bug, set the verbosity to 10 (on Linux, `export AUTOGRAPH_VERBOSITY=10`) and attach the full output.\n",
      "Cause: 'arguments' object has no attribute 'posonlyargs'\n",
      "To silence this warning, decorate the function with @tf.autograph.experimental.do_not_convert\n",
      "WARNING: AutoGraph could not transform <function Model.make_train_function.<locals>.train_function at 0x7fe2e21c2c20> and will run it as-is.\n",
      "Please report this to the TensorFlow team. When filing the bug, set the verbosity to 10 (on Linux, `export AUTOGRAPH_VERBOSITY=10`) and attach the full output.\n",
      "Cause: 'arguments' object has no attribute 'posonlyargs'\n",
      "To silence this warning, decorate the function with @tf.autograph.experimental.do_not_convert\n",
      "26/26 [==============================] - ETA: 0s - loss: 7.9940 - accuracy: 0.4818WARNING:tensorflow:AutoGraph could not transform <function Model.make_test_function.<locals>.test_function at 0x7fe2d92e65f0> and will run it as-is.\n",
      "Please report this to the TensorFlow team. When filing the bug, set the verbosity to 10 (on Linux, `export AUTOGRAPH_VERBOSITY=10`) and attach the full output.\n",
      "Cause: 'arguments' object has no attribute 'posonlyargs'\n",
      "To silence this warning, decorate the function with @tf.autograph.experimental.do_not_convert\n",
      "WARNING: AutoGraph could not transform <function Model.make_test_function.<locals>.test_function at 0x7fe2d92e65f0> and will run it as-is.\n",
      "Please report this to the TensorFlow team. When filing the bug, set the verbosity to 10 (on Linux, `export AUTOGRAPH_VERBOSITY=10`) and attach the full output.\n",
      "Cause: 'arguments' object has no attribute 'posonlyargs'\n",
      "To silence this warning, decorate the function with @tf.autograph.experimental.do_not_convert\n",
      "26/26 [==============================] - 7s 224ms/step - loss: 7.9940 - accuracy: 0.4818 - val_loss: 7.5996 - val_accuracy: 0.5073\n",
      "Epoch 2/30\n",
      "26/26 [==============================] - 6s 213ms/step - loss: 7.9940 - accuracy: 0.4818 - val_loss: 7.5996 - val_accuracy: 0.5073\n",
      "Epoch 3/30\n",
      "26/26 [==============================] - 6s 249ms/step - loss: 7.9940 - accuracy: 0.4818 - val_loss: 7.5996 - val_accuracy: 0.5073\n",
      "Epoch 4/30\n",
      "26/26 [==============================] - 7s 262ms/step - loss: 7.9940 - accuracy: 0.4818 - val_loss: 7.5996 - val_accuracy: 0.5073\n",
      "Epoch 5/30\n",
      "26/26 [==============================] - 7s 259ms/step - loss: 7.9940 - accuracy: 0.4818 - val_loss: 7.5996 - val_accuracy: 0.5073\n",
      "Epoch 6/30\n",
      "26/26 [==============================] - 7s 262ms/step - loss: 7.9940 - accuracy: 0.4818 - val_loss: 7.5996 - val_accuracy: 0.5073\n",
      "Epoch 7/30\n",
      "26/26 [==============================] - 7s 268ms/step - loss: 7.9940 - accuracy: 0.4818 - val_loss: 7.5996 - val_accuracy: 0.5073\n",
      "Epoch 8/30\n",
      "26/26 [==============================] - 7s 288ms/step - loss: 7.9940 - accuracy: 0.4818 - val_loss: 7.5996 - val_accuracy: 0.5073\n",
      "Epoch 9/30\n",
      "26/26 [==============================] - 8s 311ms/step - loss: 7.9940 - accuracy: 0.4818 - val_loss: 7.5996 - val_accuracy: 0.5073\n",
      "Epoch 10/30\n",
      "26/26 [==============================] - 7s 252ms/step - loss: 7.9940 - accuracy: 0.4818 - val_loss: 7.5996 - val_accuracy: 0.5073\n",
      "Epoch 11/30\n",
      "26/26 [==============================] - 7s 272ms/step - loss: 7.9940 - accuracy: 0.4818 - val_loss: 7.5996 - val_accuracy: 0.5073\n"
     ]
    }
   ],
   "source": [
    "early_stop = keras.callbacks.EarlyStopping(monitor='val_loss', patience=10)\n",
    "history = model.fit(dr.train_X, dr.train_Y, epochs=EPOCHS,\n",
    "                    validation_data=(dr.test_X, dr.test_Y),\n",
    "                    callbacks=[early_stop])"
   ]
  },
  {
   "cell_type": "code",
   "execution_count": 6,
   "metadata": {},
   "outputs": [
    {
     "data": {
      "image/png": "[encoded data removed]",
      "text/plain": [
       "<Figure size 576x576 with 1 Axes>"
      ]
     },
     "metadata": {
      "needs_background": "light"
     },
     "output_type": "display_data"
    },
    {
     "data": {
      "image/png": "[encoded data removed]",
      "text/plain": [
       "<Figure size 576x576 with 1 Axes>"
      ]
     },
     "metadata": {
      "needs_background": "light"
     },
     "output_type": "display_data"
    }
   ],
   "source": [
    "data_reader.draw_graph(history)"
   ]
  }
 ],
 "metadata": {
  "kernelspec": {
   "display_name": "Python 3",
   "language": "python",
   "name": "python3"
  },
  "language_info": {
   "codemirror_mode": {
    "name": "ipython",
    "version": 3
   },
   "file_extension": ".py",
   "mimetype": "text/x-python",
   "name": "python",
   "nbconvert_exporter": "python",
   "pygments_lexer": "ipython3",
   "version": "3.7.15"
  }
 },
 "nbformat": 4,
 "nbformat_minor": 2
}
